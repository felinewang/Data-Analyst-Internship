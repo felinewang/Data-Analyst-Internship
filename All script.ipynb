{
 "cells": [
  {
   "cell_type": "code",
   "execution_count": 2,
   "metadata": {},
   "outputs": [],
   "source": [
    "data = {\n",
    "    \"_id\" : \"5b51526654f2378619c83efa\",\n",
    "    \"app_key\" : \"81f9fed2a2c4abe7eeac535a462a665315c5faed\",\n",
    "    \"device_id\" : \"eb52841e-0f33-461f-b389-f95481f7bf52\",\n",
    "    \"channel\" : \"0000000001\",\n",
    "    \"net\" : \"0\",\n",
    "    \"app_version\" : \"1.0.0\",\n",
    "    \"sdk_version\" : \"0.2.3\",\n",
    "    \"u_id\" : \"278478e3e8ce837339d3551a48cd85c8\",\n",
    "    \"timestamp\" : \"2018-07-20T03:09:26.000Z\",\n",
    "    \"event\" : {\n",
    "        \"key\" : \"page_view\",\n",
    "        \"count\" : 1,\n",
    "        \"segmentation\" : {\n",
    "            \"host\" : \"cdpre.tfsmy.com\",\n",
    "            \"path\" : \"/license/pages/drivinglicense.html\",\n",
    "            \"protocol\" : \"https:\",\n",
    "            \"hash\" : \"\",\n",
    "            \"query\" : \"\",\n",
    "            \"url\" : \"https://cdpre.tfsmy.com/license/pages/drivinglicense.html\"\n",
    "        }\n",
    "    },\n",
    "    \"ip_address\" : \"182.139.87.58\",\n",
    "    \"create_time\" : \"2018-07-20T03:09:26.052Z\",\n",
    "    \"event_key\" : \"page_view\"\n",
    "}"
   ]
  },
  {
   "cell_type": "code",
   "execution_count": 3,
   "metadata": {},
   "outputs": [],
   "source": [
    "import pandas as pd\n",
    "from pymongo import MongoClient\n",
    "\n",
    "\n",
    "def connect_mongo(host, port, username, password, db):\n",
    "    \"\"\" A util for making a connection to mongo \"\"\"\n",
    "\n",
    "    if username and password:\n",
    "        mongo_uri = 'mongodb://%s:%s@%s:%s/%s' % (username, password, host, port, db)\n",
    "        conn = MongoClient(mongo_uri)\n",
    "    else:\n",
    "        conn = MongoClient(host, port)\n",
    "\n",
    "\n",
    "    return conn[db]\n",
    "def read_mongo(db, collection, query={}, host='localhost', port=27017, username=None, password=None, no_id=True):\n",
    "    \"\"\" Read from Mongo and Store into DataFrame \"\"\"\n",
    "\n",
    "    # Connect to MongoDB\n",
    "    db = connect_mongo(host=host, port=port, username=username, password=password, db=db)\n",
    "\n",
    "    # Make a query to the specific DB and Collection\n",
    "    cursor = db[collection].find(query)\n",
    "\n",
    "    # Expand the cursor and construct the DataFrame\n",
    "    df =  pd.DataFrame(list(cursor))\n",
    "\n",
    "    # Delete the _id\n",
    "    if no_id:\n",
    "        del df['_id']\n",
    "\n",
    "    return df"
   ]
  },
  {
   "cell_type": "code",
   "execution_count": 4,
   "metadata": {},
   "outputs": [],
   "source": [
    "import os\n",
    "import bson\n",
    "\n",
    "path = 'C:/Users/91550/Desktop/internship/data'\n",
    "files = os.listdir(path)\n",
    "tests = files\n",
    "s = []\n",
    "for file in tests:\n",
    "    if not file[-4] =='j':\n",
    "        try:\n",
    "            source = path+'/'+ file\n",
    "            with open(source, 'rb') as f:\n",
    "                content = bson.loads(f.read())\n",
    "                s.append(content)\n",
    "        except:\n",
    "            pass\n",
    "        continue\n",
    "            \n",
    "    "
   ]
  },
  {
   "cell_type": "code",
   "execution_count": 3,
   "metadata": {},
   "outputs": [
    {
     "data": {
      "text/plain": [
       "932"
      ]
     },
     "execution_count": 3,
     "metadata": {},
     "output_type": "execute_result"
    }
   ],
   "source": [
    "import os\n",
    "path = 'C:/Users/91550/Desktop/internship/data'\n",
    "files = os.listdir(path)\n",
    "\n",
    "len(files)"
   ]
  },
  {
   "cell_type": "code",
   "execution_count": 35,
   "metadata": {},
   "outputs": [],
   "source": [
    "import traceback\n",
    "for file in tests:\n",
    "    if not file[-4] =='j':\n",
    "        try:\n",
    "            source = path+'/'+ file\n",
    "            with open(source, 'rb') as f:\n",
    "                content = bson.loads(f.read())\n",
    "        except:\n",
    "            pass\n",
    "        continue\n",
    "            \n"
   ]
  },
  {
   "cell_type": "code",
   "execution_count": 38,
   "metadata": {},
   "outputs": [
    {
     "data": {
      "text/plain": [
       "[]"
      ]
     },
     "execution_count": 38,
     "metadata": {},
     "output_type": "execute_result"
    }
   ],
   "source": []
  },
  {
   "cell_type": "code",
   "execution_count": 3,
   "metadata": {
    "scrolled": false
   },
   "outputs": [
    {
     "name": "stderr",
     "output_type": "stream",
     "text": [
      "C:\\Users\\91550\\Anaconda3\\lib\\site-packages\\IPython\\core\\interactiveshell.py:3049: DtypeWarning: Columns (7) have mixed types. Specify dtype option on import or set low_memory=False.\n",
      "  interactivity=interactivity, compiler=compiler, result=result)\n"
     ]
    }
   ],
   "source": [
    "import pandas as pd\n",
    "data = pd.read_csv(\"data.csv\")\n",
    "\n",
    "#timestamp is not real data time"
   ]
  },
  {
   "cell_type": "code",
   "execution_count": 13,
   "metadata": {},
   "outputs": [],
   "source": [
    "time = data[[\"_id\",\"create_time\"]]"
   ]
  },
  {
   "cell_type": "code",
   "execution_count": 24,
   "metadata": {},
   "outputs": [
    {
     "data": {
      "text/plain": [
       "datetime.timedelta(days=6, seconds=86398, microseconds=712000)"
      ]
     },
     "execution_count": 24,
     "metadata": {},
     "output_type": "execute_result"
    }
   ],
   "source": [
    "from dateutil import parser\n",
    "end = parser.parse(max(time.create_time))\n",
    "start = parser.parse(min(time.create_time))\n",
    "end - start\n"
   ]
  },
  {
   "cell_type": "code",
   "execution_count": 10,
   "metadata": {},
   "outputs": [
    {
     "data": {
      "text/plain": [
       "_id                    ObjectId(5d13162f1b928e5173fa8d96)\n",
       "app_key          97fa2c49da35ccbd167753ad64ad2b3d26e40e6c\n",
       "device_id                                861aa04bbcd5a6eb\n",
       "timestamp                        2015-01-01T00:04:06.000Z\n",
       "sdk_version                                         0.3.1\n",
       "begin_session                                           1\n",
       "app_version                                         1.5.2\n",
       "channel                                                 1\n",
       "net                                                     0\n",
       "create_time                      2019-06-26T06:52:31.407Z\n",
       "ip_address                                 118.114.198.50\n",
       "imei                                      351702070805375\n",
       "device                                           SM-J7008\n",
       "resolution                                       720x1280\n",
       "carrier                                              中国移动\n",
       "os                                                Android\n",
       "os_version                                           a5.1\n",
       "locale                                              zh_CN\n",
       "u_id                                                  NaN\n",
       "city                                              Chengdu\n",
       "Name: 2395499, dtype: object"
      ]
     },
     "execution_count": 10,
     "metadata": {},
     "output_type": "execute_result"
    }
   ],
   "source": [
    "data.loc[2395499]"
   ]
  },
  {
   "cell_type": "code",
   "execution_count": 44,
   "metadata": {},
   "outputs": [
    {
     "data": {
      "text/plain": [
       "2395499    2015-01-01T00:04:06.000Z\n",
       "2395748    2015-01-01T00:04:33.000Z\n",
       "2396033    2015-01-01T00:05:16.000Z\n",
       "2396491    2015-01-01T00:14:15.000Z\n",
       "3705237    2018-07-10T05:03:38.000Z\n",
       "5263820    2018-07-10T09:25:31.000Z\n",
       "3705256    2018-07-10T09:30:57.000Z\n",
       "5263827    2018-07-10T09:32:19.000Z\n",
       "3705316    2018-07-10T09:59:57.000Z\n",
       "5263825    2018-07-10T15:36:39.000Z\n",
       "5263835    2018-07-10T15:37:10.000Z\n",
       "5263843    2018-07-10T15:39:47.000Z\n",
       "5263849    2018-07-10T15:40:10.000Z\n",
       "671442     2018-07-19T05:01:39.000Z\n",
       "671449     2018-07-19T09:10:42.000Z\n",
       "671446     2018-07-19T09:11:13.000Z\n",
       "671452     2018-07-19T09:13:02.000Z\n",
       "671453     2018-07-19T13:03:03.000Z\n",
       "5263850    2018-07-22T11:02:40.000Z\n",
       "671466     2018-07-23T02:34:09.000Z\n",
       "671463     2018-07-23T13:44:30.000Z\n",
       "671464     2018-07-24T09:13:45.000Z\n",
       "6018776    2018-07-24T19:02:53.000Z\n",
       "6018785    2018-07-24T19:06:04.000Z\n",
       "671461     2018-07-25T04:36:29.000Z\n",
       "671458     2018-07-25T04:37:14.000Z\n",
       "671473     2018-07-25T04:37:26.000Z\n",
       "6018787    2018-07-25T06:26:25.000Z\n",
       "6018791    2018-07-25T06:28:01.000Z\n",
       "6018793    2018-07-25T06:32:23.000Z\n",
       "                     ...           \n",
       "6238392    2019-06-30T23:59:55.000Z\n",
       "6238391    2019-06-30T23:59:55.000Z\n",
       "6238390    2019-06-30T23:59:55.000Z\n",
       "6238389    2019-06-30T23:59:55.000Z\n",
       "6238388    2019-06-30T23:59:55.000Z\n",
       "6238387    2019-06-30T23:59:55.000Z\n",
       "6238407    2019-06-30T23:59:56.000Z\n",
       "6238406    2019-06-30T23:59:56.000Z\n",
       "6238404    2019-06-30T23:59:56.000Z\n",
       "6238403    2019-06-30T23:59:56.000Z\n",
       "6238405    2019-06-30T23:59:56.000Z\n",
       "6238401    2019-06-30T23:59:56.000Z\n",
       "6238400    2019-06-30T23:59:56.000Z\n",
       "6238399    2019-06-30T23:59:56.000Z\n",
       "6238402    2019-06-30T23:59:56.000Z\n",
       "6238408    2019-06-30T23:59:57.000Z\n",
       "6238409    2019-06-30T23:59:57.000Z\n",
       "6238410    2019-06-30T23:59:57.000Z\n",
       "6238411    2019-06-30T23:59:57.000Z\n",
       "6238412    2019-06-30T23:59:57.000Z\n",
       "6238413    2019-06-30T23:59:57.000Z\n",
       "6238419    2019-06-30T23:59:58.000Z\n",
       "6238420    2019-06-30T23:59:58.000Z\n",
       "6238418    2019-06-30T23:59:58.000Z\n",
       "6238421    2019-06-30T23:59:58.000Z\n",
       "6238416    2019-06-30T23:59:58.000Z\n",
       "6238415    2019-06-30T23:59:58.000Z\n",
       "6238414    2019-06-30T23:59:58.000Z\n",
       "6238417    2019-06-30T23:59:58.000Z\n",
       "6238422    2019-06-30T23:59:58.000Z\n",
       "Name: timestamp, Length: 6238423, dtype: object"
      ]
     },
     "execution_count": 44,
     "metadata": {},
     "output_type": "execute_result"
    }
   ],
   "source": [
    "data.timestamp.sort_values()"
   ]
  },
  {
   "cell_type": "code",
   "execution_count": 12,
   "metadata": {},
   "outputs": [
    {
     "name": "stderr",
     "output_type": "stream",
     "text": [
      "C:\\Users\\91550\\Anaconda3\\lib\\site-packages\\ipykernel_launcher.py:2: SettingWithCopyWarning: \n",
      "A value is trying to be set on a copy of a slice from a DataFrame.\n",
      "Try using .loc[row_indexer,col_indexer] = value instead\n",
      "\n",
      "See the caveats in the documentation: http://pandas.pydata.org/pandas-docs/stable/indexing.html#indexing-view-versus-copy\n",
      "  \n"
     ]
    }
   ],
   "source": []
  },
  {
   "cell_type": "code",
   "execution_count": 5,
   "metadata": {},
   "outputs": [],
   "source": [
    "events = pd.read_csv(\"event.csv\")"
   ]
  },
  {
   "cell_type": "code",
   "execution_count": 151,
   "metadata": {
    "scrolled": true
   },
   "outputs": [
    {
     "data": {
      "text/html": [
       "<div>\n",
       "<style scoped>\n",
       "    .dataframe tbody tr th:only-of-type {\n",
       "        vertical-align: middle;\n",
       "    }\n",
       "\n",
       "    .dataframe tbody tr th {\n",
       "        vertical-align: top;\n",
       "    }\n",
       "\n",
       "    .dataframe thead th {\n",
       "        text-align: right;\n",
       "    }\n",
       "</style>\n",
       "<table border=\"1\" class=\"dataframe\">\n",
       "  <thead>\n",
       "    <tr style=\"text-align: right;\">\n",
       "      <th></th>\n",
       "      <th>_id</th>\n",
       "      <th>app_key</th>\n",
       "      <th>sdk_version</th>\n",
       "      <th>timestamp</th>\n",
       "      <th>channel</th>\n",
       "      <th>app_version</th>\n",
       "      <th>net</th>\n",
       "      <th>device_id</th>\n",
       "      <th>ip_address</th>\n",
       "      <th>create_time</th>\n",
       "      <th>event_key</th>\n",
       "      <th>event_id</th>\n",
       "      <th>seg</th>\n",
       "      <th>u_id</th>\n",
       "    </tr>\n",
       "  </thead>\n",
       "  <tbody>\n",
       "    <tr>\n",
       "      <th>0</th>\n",
       "      <td>ObjectId(5d1012805a314671170f105b)</td>\n",
       "      <td>b773cf8ac947e5c77ffbb4f661c1e32cc21a86a7</td>\n",
       "      <td>0.2.3</td>\n",
       "      <td>2019-06-24T00:00:00.000Z</td>\n",
       "      <td>1</td>\n",
       "      <td>1.0.0</td>\n",
       "      <td>0.0</td>\n",
       "      <td>cc42475cf22960a5</td>\n",
       "      <td>118.115.197.61</td>\n",
       "      <td>2019-06-24T00:00:00.178Z</td>\n",
       "      <td>load</td>\n",
       "      <td>load</td>\n",
       "      <td>count=1,hash=#/help,</td>\n",
       "      <td>fa8ac9f24ac609e4dab78af0029cc777</td>\n",
       "    </tr>\n",
       "    <tr>\n",
       "      <th>1</th>\n",
       "      <td>ObjectId(5d1012805a314671170f1062)</td>\n",
       "      <td>e9e67ea5ac79bf000a627550d7dec386037be8fd</td>\n",
       "      <td>0.2.3</td>\n",
       "      <td>2019-06-24T00:00:00.000Z</td>\n",
       "      <td>1</td>\n",
       "      <td>1.0.0</td>\n",
       "      <td>0.0</td>\n",
       "      <td>50aecc1fe89eb0d8</td>\n",
       "      <td>182.144.119.2</td>\n",
       "      <td>2019-06-24T00:00:00.307Z</td>\n",
       "      <td>load</td>\n",
       "      <td>load</td>\n",
       "      <td>count=1,hash=,</td>\n",
       "      <td>NaN</td>\n",
       "    </tr>\n",
       "    <tr>\n",
       "      <th>2</th>\n",
       "      <td>ObjectId(5d1012805a314671170f1064)</td>\n",
       "      <td>97fa2c49da35ccbd167753ad64ad2b3d26e40e6c</td>\n",
       "      <td>0.3.2</td>\n",
       "      <td>2019-06-24T00:00:00.000Z</td>\n",
       "      <td>1</td>\n",
       "      <td>1.6.2</td>\n",
       "      <td>1.0</td>\n",
       "      <td>467c2bc88d870a18b33bf56b7ef7e615f9d1fba7</td>\n",
       "      <td>117.139.192.58</td>\n",
       "      <td>2019-06-24T00:00:00.365Z</td>\n",
       "      <td>apps-in</td>\n",
       "      <td>apps-in</td>\n",
       "      <td>service_name=社保服务,service_id=11142,entrance=首页...</td>\n",
       "      <td>EE7177F1A7169319720AC0F64E9893C9</td>\n",
       "    </tr>\n",
       "    <tr>\n",
       "      <th>3</th>\n",
       "      <td>ObjectId(5d1012805a314671170f1066)</td>\n",
       "      <td>b773cf8ac947e5c77ffbb4f661c1e32cc21a86a7</td>\n",
       "      <td>0.2.3</td>\n",
       "      <td>2019-06-24T00:00:00.000Z</td>\n",
       "      <td>1</td>\n",
       "      <td>1.0.0</td>\n",
       "      <td>0.0</td>\n",
       "      <td>98a6af2e31e5d7383cbe0284e25183a911ca0046</td>\n",
       "      <td>117.136.62.36</td>\n",
       "      <td>2019-06-24T00:00:00.501Z</td>\n",
       "      <td>page_view</td>\n",
       "      <td>page_view</td>\n",
       "      <td>count=1,host=tfsmy.chengdu.gov.cn,path=/scan-c...</td>\n",
       "      <td>1F3508D6DD27AF5B401C127CCB646308</td>\n",
       "    </tr>\n",
       "    <tr>\n",
       "      <th>4</th>\n",
       "      <td>ObjectId(5d1012805a314671170f106b)</td>\n",
       "      <td>221ce8d9b2409a0ed5d50c5c5487220a99eb43cf</td>\n",
       "      <td>0.2.3</td>\n",
       "      <td>2019-06-24T00:00:00.000Z</td>\n",
       "      <td>1</td>\n",
       "      <td>1.0.0</td>\n",
       "      <td>0.0</td>\n",
       "      <td>50978b15634733fe</td>\n",
       "      <td>101.206.168.20</td>\n",
       "      <td>2019-06-24T00:00:00.733Z</td>\n",
       "      <td>page_view</td>\n",
       "      <td>page_view</td>\n",
       "      <td>count=1,host=tfsmy.chengdu.gov.cn,path=/integr...</td>\n",
       "      <td>2250d938b1c3adc9cc0ee0a078c91841</td>\n",
       "    </tr>\n",
       "  </tbody>\n",
       "</table>\n",
       "</div>"
      ],
      "text/plain": [
       "                                  _id  \\\n",
       "0  ObjectId(5d1012805a314671170f105b)   \n",
       "1  ObjectId(5d1012805a314671170f1062)   \n",
       "2  ObjectId(5d1012805a314671170f1064)   \n",
       "3  ObjectId(5d1012805a314671170f1066)   \n",
       "4  ObjectId(5d1012805a314671170f106b)   \n",
       "\n",
       "                                    app_key sdk_version  \\\n",
       "0  b773cf8ac947e5c77ffbb4f661c1e32cc21a86a7       0.2.3   \n",
       "1  e9e67ea5ac79bf000a627550d7dec386037be8fd       0.2.3   \n",
       "2  97fa2c49da35ccbd167753ad64ad2b3d26e40e6c       0.3.2   \n",
       "3  b773cf8ac947e5c77ffbb4f661c1e32cc21a86a7       0.2.3   \n",
       "4  221ce8d9b2409a0ed5d50c5c5487220a99eb43cf       0.2.3   \n",
       "\n",
       "                  timestamp  channel app_version  net  \\\n",
       "0  2019-06-24T00:00:00.000Z        1       1.0.0  0.0   \n",
       "1  2019-06-24T00:00:00.000Z        1       1.0.0  0.0   \n",
       "2  2019-06-24T00:00:00.000Z        1       1.6.2  1.0   \n",
       "3  2019-06-24T00:00:00.000Z        1       1.0.0  0.0   \n",
       "4  2019-06-24T00:00:00.000Z        1       1.0.0  0.0   \n",
       "\n",
       "                                  device_id      ip_address  \\\n",
       "0                          cc42475cf22960a5  118.115.197.61   \n",
       "1                          50aecc1fe89eb0d8   182.144.119.2   \n",
       "2  467c2bc88d870a18b33bf56b7ef7e615f9d1fba7  117.139.192.58   \n",
       "3  98a6af2e31e5d7383cbe0284e25183a911ca0046   117.136.62.36   \n",
       "4                          50978b15634733fe  101.206.168.20   \n",
       "\n",
       "                create_time  event_key   event_id  \\\n",
       "0  2019-06-24T00:00:00.178Z       load       load   \n",
       "1  2019-06-24T00:00:00.307Z       load       load   \n",
       "2  2019-06-24T00:00:00.365Z    apps-in    apps-in   \n",
       "3  2019-06-24T00:00:00.501Z  page_view  page_view   \n",
       "4  2019-06-24T00:00:00.733Z  page_view  page_view   \n",
       "\n",
       "                                                 seg  \\\n",
       "0                               count=1,hash=#/help,   \n",
       "1                                     count=1,hash=,   \n",
       "2  service_name=社保服务,service_id=11142,entrance=首页...   \n",
       "3  count=1,host=tfsmy.chengdu.gov.cn,path=/scan-c...   \n",
       "4  count=1,host=tfsmy.chengdu.gov.cn,path=/integr...   \n",
       "\n",
       "                               u_id  \n",
       "0  fa8ac9f24ac609e4dab78af0029cc777  \n",
       "1                               NaN  \n",
       "2  EE7177F1A7169319720AC0F64E9893C9  \n",
       "3  1F3508D6DD27AF5B401C127CCB646308  \n",
       "4  2250d938b1c3adc9cc0ee0a078c91841  "
      ]
     },
     "execution_count": 151,
     "metadata": {},
     "output_type": "execute_result"
    }
   ],
   "source": [
    "events.head()"
   ]
  },
  {
   "cell_type": "code",
   "execution_count": 29,
   "metadata": {},
   "outputs": [],
   "source": [
    "service = events.seg\n",
    "details = [x.split(',') for x in service]"
   ]
  },
  {
   "cell_type": "code",
   "execution_count": 152,
   "metadata": {},
   "outputs": [],
   "source": [
    "apps = events[['device_id','app_key']]"
   ]
  },
  {
   "cell_type": "code",
   "execution_count": 162,
   "metadata": {},
   "outputs": [],
   "source": [
    "test = apps[0:1000]\n",
    "grouped = test.groupby('device_id')"
   ]
  },
  {
   "cell_type": "code",
   "execution_count": 163,
   "metadata": {},
   "outputs": [
    {
     "data": {
      "text/plain": [
       "device_id\n",
       "95664a5cf40952e5                             1\n",
       "b7ce3f4e6ea6f133                             1\n",
       "b840c540761f5dac                             1\n",
       "321ddcea8c47be4e887624953c0ffcdd1d5c7342     1\n",
       "752051ea51d80a725bf4c5fba7c2c4298b5867a1     1\n",
       "3670ac9be877f737b5772090253c06ea53ead63b     1\n",
       "716099e8b1e9fbe9212c4557387bc38a9c5189a8     1\n",
       "6ec1ecefe460652d                             1\n",
       "385447f73bf85c44                             1\n",
       "6e97f7d407a4fafd135dd675242f68cd4f9c320e     1\n",
       "6e8f39e5c46eadbc5a81cfa260d0de68a291051a     1\n",
       "6e43d30cf2c3aff6                             1\n",
       "3c654906f610c1f8ec2480bbb83a324616d68e60     1\n",
       "3d5cdd85404d2029952551bdcc2d6b8d3279e8bc     1\n",
       "2ba6728fdc8234ebd974e996315fb975470c7132     1\n",
       "3e1785cc32c410d015dd28116326ddb2988767ba     1\n",
       "40a6b8cbba1b9a3a77bd9dd24ebd249f73f453fc     1\n",
       "d0b8136e4801a7b8a997da81a4d969305d6336cf     1\n",
       "6b67b65a84b0848e                             1\n",
       "46deb28c6bb4b9d14ebff861434ab694277c125f     1\n",
       "be0766ac89810c77f50284090110b786c1e8f2f6     1\n",
       "4a84ae4dc87c11842a9870d449efb5a49ad545c7     1\n",
       "4b129628f7a2f02786487e4e55d797d152687af7     1\n",
       "cbd1be28479731a5c77f18b78d1311598e01414d     1\n",
       "65b5e5abc9f6dc55                             1\n",
       "c70330bb5a2a6bf6cd8f19c9194f557cb56727c3     1\n",
       "c6644bb613c20d9e                             1\n",
       "c3faf03625a6c9d2af72773b1e4fcae64d494437     1\n",
       "5f249095b6152ea09a4db900b0f17c75ceba7198     1\n",
       "3f05591bc67e9065050aea717afba5b06ef78fbc     1\n",
       "                                            ..\n",
       "60ca2fa8d7b10b2f9d97267bb1d7cf3a6e5f5c12     7\n",
       "7d9686c20bfc5a43                             8\n",
       "01b022dbd32cd845                             8\n",
       "deb120d0266ab043                             8\n",
       "38cf3a77984bb6c4                             8\n",
       "50978b15634733fe                             8\n",
       "88020768f537d3efb4d9fd32b8df4c3bf09fccc4     8\n",
       "0c1c225ead1ca4b9                             9\n",
       "53b62a1461ccf91e5997c4cbe0517c53e79ef36f     9\n",
       "b08cc60d568b7bc1                             9\n",
       "a1e7c099bd6af9ca                            10\n",
       "84ff64be15915702                            10\n",
       "ffc4cbf4076d8af7                            11\n",
       "8488d631b9847792                            11\n",
       "8df33e7180673a38198215601dc6a603c1ea4fe2    12\n",
       "2f3dd928a9dfcb93                            12\n",
       "65b82134c1f019ce                            12\n",
       "2cb9946db3e615e7                            13\n",
       "cf6d14ed97a2b823                            13\n",
       "8c758e4b83467290                            13\n",
       "ff9372865cac9923                            14\n",
       "dd56a0f17ac4d1e8                            16\n",
       "6dd9b87f580317cb                            17\n",
       "f8e5057b54d41ca140ef9bbc66ab0973d402c662    19\n",
       "04c6909a53471c6d                            19\n",
       "8c8f52f05a63e0c008c3234e04231a1972963af6    21\n",
       "0877f01c1bb7466f7e40c3335cf680405a3b103e    23\n",
       "9fe790639970d9f8902c0fd1d47485ad49ba75cd    24\n",
       "6b08be5d18d4a727                            27\n",
       "4936ee66718277e4                            30\n",
       "Length: 239, dtype: int64"
      ]
     },
     "execution_count": 163,
     "metadata": {},
     "output_type": "execute_result"
    }
   ],
   "source": [
    "grouped.size().sort_values()"
   ]
  },
  {
   "cell_type": "code",
   "execution_count": 73,
   "metadata": {},
   "outputs": [
    {
     "name": "stderr",
     "output_type": "stream",
     "text": [
      "C:\\Users\\91550\\Anaconda3\\lib\\site-packages\\ipykernel_launcher.py:1: SettingWithCopyWarning: \n",
      "A value is trying to be set on a copy of a slice from a DataFrame.\n",
      "Try using .loc[row_indexer,col_indexer] = value instead\n",
      "\n",
      "See the caveats in the documentation: http://pandas.pydata.org/pandas-docs/stable/indexing.html#indexing-view-versus-copy\n",
      "  \"\"\"Entry point for launching an IPython kernel.\n"
     ]
    }
   ],
   "source": [
    "test['details'] = [x.split(',') for x in test.seg]"
   ]
  },
  {
   "cell_type": "code",
   "execution_count": 174,
   "metadata": {},
   "outputs": [
    {
     "data": {
      "text/plain": [
       "app_key    affe7720c5c474142003e6d8bd540e2538d601be\n",
       "size                                             30\n",
       "Name: 4936ee66718277e4, dtype: object"
      ]
     },
     "execution_count": 174,
     "metadata": {},
     "output_type": "execute_result"
    }
   ],
   "source": [
    "key = df.sort_values(by = 'size').iloc[-1]\n"
   ]
  },
  {
   "cell_type": "code",
   "execution_count": 331,
   "metadata": {},
   "outputs": [],
   "source": [
    "want = events[(events['device_id'] == '4936ee66718277e4')]"
   ]
  },
  {
   "cell_type": "code",
   "execution_count": 275,
   "metadata": {},
   "outputs": [
    {
     "data": {
      "text/plain": [
       "(56, 14)"
      ]
     },
     "execution_count": 275,
     "metadata": {},
     "output_type": "execute_result"
    }
   ],
   "source": [
    "want.shape"
   ]
  },
  {
   "cell_type": "code",
   "execution_count": 265,
   "metadata": {},
   "outputs": [
    {
     "data": {
      "text/plain": [
       "Counter({'97fa2c49da35ccbd167753ad64ad2b3d26e40e6c': 56,\n",
       "         'affe7720c5c474142003e6d8bd540e2538d601be': 1,\n",
       "         'e9e67ea5ac79bf000a627550d7dec386037be8fd': 4,\n",
       "         'c125ebf0676f76787e56f45dbfc60b782236ccb7': 3,\n",
       "         'c170224262104100ca674d9f9a0298a1133c676e': 1,\n",
       "         '7414c77e8d5a5dee9ab73a9096745fe684c46e03': 41,\n",
       "         '360bd34f9dbd30ae6be03b1b4e3166be09aad276': 1,\n",
       "         '8d4ca441170676625dab2562241d44e19e856d0f': 23,\n",
       "         '5d48462c4f9169de9fa92913ab5e2ee8baa6c765': 1,\n",
       "         '1abd5816c49eb97aa11214a02a7adaa50e8726cd': 2})"
      ]
     },
     "execution_count": 265,
     "metadata": {},
     "output_type": "execute_result"
    }
   ],
   "source": [
    "from collections import Counter\n",
    "Counter(want.app_key)"
   ]
  },
  {
   "cell_type": "code",
   "execution_count": 266,
   "metadata": {},
   "outputs": [
    {
     "data": {
      "text/html": [
       "<div>\n",
       "<style scoped>\n",
       "    .dataframe tbody tr th:only-of-type {\n",
       "        vertical-align: middle;\n",
       "    }\n",
       "\n",
       "    .dataframe tbody tr th {\n",
       "        vertical-align: top;\n",
       "    }\n",
       "\n",
       "    .dataframe thead th {\n",
       "        text-align: right;\n",
       "    }\n",
       "</style>\n",
       "<table border=\"1\" class=\"dataframe\">\n",
       "  <thead>\n",
       "    <tr style=\"text-align: right;\">\n",
       "      <th></th>\n",
       "      <th>_id</th>\n",
       "      <th>app_key</th>\n",
       "      <th>sdk_version</th>\n",
       "      <th>timestamp</th>\n",
       "      <th>channel</th>\n",
       "      <th>app_version</th>\n",
       "      <th>net</th>\n",
       "      <th>device_id</th>\n",
       "      <th>ip_address</th>\n",
       "      <th>create_time</th>\n",
       "      <th>event_key</th>\n",
       "      <th>event_id</th>\n",
       "      <th>seg</th>\n",
       "      <th>u_id</th>\n",
       "    </tr>\n",
       "  </thead>\n",
       "  <tbody>\n",
       "    <tr>\n",
       "      <th>31</th>\n",
       "      <td>ObjectId(5d1012815c3e1a5073ca9d4a)</td>\n",
       "      <td>97fa2c49da35ccbd167753ad64ad2b3d26e40e6c</td>\n",
       "      <td>0.3.1</td>\n",
       "      <td>2019-06-10T00:20:56.000Z</td>\n",
       "      <td>1</td>\n",
       "      <td>1.6.3</td>\n",
       "      <td>1.0</td>\n",
       "      <td>4936ee66718277e4</td>\n",
       "      <td>101.206.167.201</td>\n",
       "      <td>2019-06-24T00:00:01.561Z</td>\n",
       "      <td>apps-in</td>\n",
       "      <td>apps-in</td>\n",
       "      <td>count=1,timestamp=1560126034,service-appid=1,s...</td>\n",
       "      <td>NaN</td>\n",
       "    </tr>\n",
       "    <tr>\n",
       "      <th>34</th>\n",
       "      <td>ObjectId(5d1012815c3e1a5073ca9d4e)</td>\n",
       "      <td>97fa2c49da35ccbd167753ad64ad2b3d26e40e6c</td>\n",
       "      <td>0.3.1</td>\n",
       "      <td>2019-06-10T00:21:01.000Z</td>\n",
       "      <td>1</td>\n",
       "      <td>1.6.3</td>\n",
       "      <td>1.0</td>\n",
       "      <td>4936ee66718277e4</td>\n",
       "      <td>101.206.167.201</td>\n",
       "      <td>2019-06-24T00:00:01.832Z</td>\n",
       "      <td>apps-in</td>\n",
       "      <td>apps-in</td>\n",
       "      <td>count=1,timestamp=1560126058,service-appid=0,s...</td>\n",
       "      <td>NaN</td>\n",
       "    </tr>\n",
       "    <tr>\n",
       "      <th>47</th>\n",
       "      <td>ObjectId(5d1012821b928e5173d146ee)</td>\n",
       "      <td>97fa2c49da35ccbd167753ad64ad2b3d26e40e6c</td>\n",
       "      <td>0.3.1</td>\n",
       "      <td>2019-06-10T00:21:34.000Z</td>\n",
       "      <td>1</td>\n",
       "      <td>1.6.3</td>\n",
       "      <td>1.0</td>\n",
       "      <td>4936ee66718277e4</td>\n",
       "      <td>101.206.167.201</td>\n",
       "      <td>2019-06-24T00:00:02.169Z</td>\n",
       "      <td>network-error</td>\n",
       "      <td>network-error</td>\n",
       "      <td>count=1,timestamp=1560126086,times=53626,datet...</td>\n",
       "      <td>NaN</td>\n",
       "    </tr>\n",
       "    <tr>\n",
       "      <th>48</th>\n",
       "      <td>ObjectId(5d1012821b928e5173d146ef)</td>\n",
       "      <td>97fa2c49da35ccbd167753ad64ad2b3d26e40e6c</td>\n",
       "      <td>0.3.1</td>\n",
       "      <td>2019-06-10T00:21:34.000Z</td>\n",
       "      <td>1</td>\n",
       "      <td>1.6.3</td>\n",
       "      <td>1.0</td>\n",
       "      <td>4936ee66718277e4</td>\n",
       "      <td>101.206.167.201</td>\n",
       "      <td>2019-06-24T00:00:02.171Z</td>\n",
       "      <td>network-error</td>\n",
       "      <td>network-error</td>\n",
       "      <td>count=1,timestamp=1560126086,times=30216,datet...</td>\n",
       "      <td>NaN</td>\n",
       "    </tr>\n",
       "    <tr>\n",
       "      <th>49</th>\n",
       "      <td>ObjectId(5d1012821b928e5173d146f0)</td>\n",
       "      <td>97fa2c49da35ccbd167753ad64ad2b3d26e40e6c</td>\n",
       "      <td>0.3.1</td>\n",
       "      <td>2019-06-10T00:21:34.000Z</td>\n",
       "      <td>1</td>\n",
       "      <td>1.6.3</td>\n",
       "      <td>1.0</td>\n",
       "      <td>4936ee66718277e4</td>\n",
       "      <td>101.206.167.201</td>\n",
       "      <td>2019-06-24T00:00:02.171Z</td>\n",
       "      <td>network-error</td>\n",
       "      <td>network-error</td>\n",
       "      <td>count=1,timestamp=1560126088,times=54390,datet...</td>\n",
       "      <td>NaN</td>\n",
       "    </tr>\n",
       "  </tbody>\n",
       "</table>\n",
       "</div>"
      ],
      "text/plain": [
       "                                   _id  \\\n",
       "31  ObjectId(5d1012815c3e1a5073ca9d4a)   \n",
       "34  ObjectId(5d1012815c3e1a5073ca9d4e)   \n",
       "47  ObjectId(5d1012821b928e5173d146ee)   \n",
       "48  ObjectId(5d1012821b928e5173d146ef)   \n",
       "49  ObjectId(5d1012821b928e5173d146f0)   \n",
       "\n",
       "                                     app_key sdk_version  \\\n",
       "31  97fa2c49da35ccbd167753ad64ad2b3d26e40e6c       0.3.1   \n",
       "34  97fa2c49da35ccbd167753ad64ad2b3d26e40e6c       0.3.1   \n",
       "47  97fa2c49da35ccbd167753ad64ad2b3d26e40e6c       0.3.1   \n",
       "48  97fa2c49da35ccbd167753ad64ad2b3d26e40e6c       0.3.1   \n",
       "49  97fa2c49da35ccbd167753ad64ad2b3d26e40e6c       0.3.1   \n",
       "\n",
       "                   timestamp  channel app_version  net         device_id  \\\n",
       "31  2019-06-10T00:20:56.000Z        1       1.6.3  1.0  4936ee66718277e4   \n",
       "34  2019-06-10T00:21:01.000Z        1       1.6.3  1.0  4936ee66718277e4   \n",
       "47  2019-06-10T00:21:34.000Z        1       1.6.3  1.0  4936ee66718277e4   \n",
       "48  2019-06-10T00:21:34.000Z        1       1.6.3  1.0  4936ee66718277e4   \n",
       "49  2019-06-10T00:21:34.000Z        1       1.6.3  1.0  4936ee66718277e4   \n",
       "\n",
       "         ip_address               create_time      event_key       event_id  \\\n",
       "31  101.206.167.201  2019-06-24T00:00:01.561Z        apps-in        apps-in   \n",
       "34  101.206.167.201  2019-06-24T00:00:01.832Z        apps-in        apps-in   \n",
       "47  101.206.167.201  2019-06-24T00:00:02.169Z  network-error  network-error   \n",
       "48  101.206.167.201  2019-06-24T00:00:02.171Z  network-error  network-error   \n",
       "49  101.206.167.201  2019-06-24T00:00:02.171Z  network-error  network-error   \n",
       "\n",
       "                                                  seg u_id  \n",
       "31  count=1,timestamp=1560126034,service-appid=1,s...  NaN  \n",
       "34  count=1,timestamp=1560126058,service-appid=0,s...  NaN  \n",
       "47  count=1,timestamp=1560126086,times=53626,datet...  NaN  \n",
       "48  count=1,timestamp=1560126086,times=30216,datet...  NaN  \n",
       "49  count=1,timestamp=1560126088,times=54390,datet...  NaN  "
      ]
     },
     "execution_count": 266,
     "metadata": {},
     "output_type": "execute_result"
    }
   ],
   "source": [
    "want.head()"
   ]
  },
  {
   "cell_type": "code",
   "execution_count": 306,
   "metadata": {
    "scrolled": true
   },
   "outputs": [
    {
     "data": {
      "text/plain": [
       "97fa2c49da35ccbd167753ad64ad2b3d26e40e6c    587\n",
       "e9e67ea5ac79bf000a627550d7dec386037be8fd    114\n",
       "b773cf8ac947e5c77ffbb4f661c1e32cc21a86a7    108\n",
       "88a6b5c1a3a1a3506d9979588a8d61d629858a36     61\n",
       "9183bb56250007be9bdd2ae6e54edfd49ef8ee50     31\n",
       "7414c77e8d5a5dee9ab73a9096745fe684c46e03     27\n",
       "c170224262104100ca674d9f9a0298a1133c676e     21\n",
       "1abd5816c49eb97aa11214a02a7adaa50e8726cd      7\n",
       "7f5736a8ec8eb6dad3e996ae7b8a219e644ef0c3      6\n",
       "45443b2a4465807d6bc21703449a6ce45debd5ee      6\n",
       "2a1fac6117972801b17fe954c956b1ee8515578a      5\n",
       "affe7720c5c474142003e6d8bd540e2538d601be      5\n",
       "c125ebf0676f76787e56f45dbfc60b782236ccb7      4\n",
       "221ce8d9b2409a0ed5d50c5c5487220a99eb43cf      3\n",
       "5e6494cd7236d08a768a700ce1e15ba80795e915      3\n",
       "529cda927fdc27333cdfd10fe944bf8ebaa214c1      2\n",
       "1d8eba8d019496906b06fd832a508df9d1111bd6      2\n",
       "e2b3fa913d2e6807f1b7f7ee6fed127c31a58e39      2\n",
       "3fd3b45a1bb5e8f098d021eade3f0b5301775154      1\n",
       "dfc50e032cda1ef0748c3c60dd54a6ab632c125b      1\n",
       "498eb3a5e6a854fc5f1d1c93229f622cf4c70c52      1\n",
       "29222b72b4656ca64c48a3063dcfc50d76a55650      1\n",
       "db28a6475a465f2e999cf5a3c816ae0cef733bb6      1\n",
       "daf25a1e96c10b336e42efeaf11f752726ae1b2d      1\n",
       "Name: app_key, dtype: int64"
      ]
     },
     "execution_count": 306,
     "metadata": {},
     "output_type": "execute_result"
    }
   ],
   "source": [
    "app_count = test.groupby('device_id',as_index = False).agg(max)\n",
    "count = test.app_key.value_counts()\n",
    "count.sort_values(ascending = False)"
   ]
  },
  {
   "cell_type": "code",
   "execution_count": 416,
   "metadata": {},
   "outputs": [],
   "source": [
    "#convert to csv\n",
    "df.to_csv(\"tags.csv\",sep = \",\")"
   ]
  },
  {
   "cell_type": "code",
   "execution_count": 87,
   "metadata": {},
   "outputs": [
    {
     "data": {
      "text/plain": [
       "array([[20722]], dtype=int64)"
      ]
     },
     "execution_count": 87,
     "metadata": {},
     "output_type": "execute_result"
    }
   ],
   "source": [
    "#search index\n",
    "import numpy as np\n",
    "import pandas as pd\n",
    "events = pd.read_csv('event.csv')\n",
    "users = events.device_id.unique()"
   ]
  },
  {
   "cell_type": "code",
   "execution_count": 449,
   "metadata": {},
   "outputs": [
    {
     "data": {
      "text/plain": [
       "array([[248545]], dtype=int64)"
      ]
     },
     "execution_count": 449,
     "metadata": {},
     "output_type": "execute_result"
    }
   ],
   "source": [
    "np.argwhere(users == 'e017a9f63650de0a1b682759afd43112a53fd86d')"
   ]
  },
  {
   "cell_type": "code",
   "execution_count": 544,
   "metadata": {},
   "outputs": [],
   "source": [
    "#test assign features to one device_id\n",
    "\n",
    "test = df[df.id == 'cc42475cf22960a5']\n",
    "\n",
    "cate = pd.read_excel('category.xlsx')\n",
    "need = cate.dropna().iloc[:,1:3]\n",
    "need.columns = ['key','category']\n",
    "dic = need.set_index('key').T.to_dict('list')\n",
    "\n",
    "tags = list(itertools.chain.from_iterable(test.tags))\n",
    "raw = []  #some app_key only not in dictionary, .get return none, drop later\n",
    "\n",
    "for tag in tags:\n",
    "    feature = dic.get(tag)\n",
    "    raw.append(feature)\n",
    "    \n",
    "final = list(filter(None,raw))"
   ]
  },
  {
   "cell_type": "code",
   "execution_count": null,
   "metadata": {},
   "outputs": [],
   "source": [
    "# part 1\n",
    "df = pd.DataFrame(columns = ['id','tags'])\n",
    "information = events[['app_key','create_time','device_id']]\n",
    "users = events.device_id.unique()\n",
    "for user in users:\n",
    "    sample = information[information.device_id == user]\n",
    "    tag = sample.app_key.unique().tolist()\n",
    "    df = df.append(pd.DataFrame({'id':[user],'tags':[tag]}),ignore_index=True)\n",
    "    print(df)"
   ]
  },
  {
   "cell_type": "code",
   "execution_count": 90,
   "metadata": {},
   "outputs": [],
   "source": [
    "#part 2\n",
    "\n",
    "#create dictionary\n",
    "import itertools\n",
    "\n",
    "cate = pd.read_excel('category.xlsx')\n",
    "need = cate.dropna().iloc[:,1:3]\n",
    "need.columns = ['key','category']\n",
    "dic = need.set_index('key').T.to_dict('list')\n",
    "\n",
    "def assign_feature(user):\n",
    "    tags = user.tags.strip('[]').replace(\"'\",\"\").replace(\" \",\"\").split(\",\")\n",
    "    raw = []\n",
    "    for tag in tags:\n",
    "        feature = dic.get(tag)\n",
    "        raw.append(feature)\n",
    "    final = list(filter(None,raw))\n",
    "    return final\n"
   ]
  },
  {
   "cell_type": "code",
   "execution_count": 5,
   "metadata": {},
   "outputs": [],
   "source": [
    "import pandas as pd\n",
    "#读取部分数据进行实验\n",
    "test = pd.read_csv('user_records.csv')\n",
    "test['features'] = test.apply(assign_feature,axis = 1)\n",
    "test.to_csv('with_features.csv',index = False)"
   ]
  },
  {
   "cell_type": "code",
   "execution_count": null,
   "metadata": {},
   "outputs": [],
   "source": [
    "# part 3\n",
    "data = pd.read_csv('with_features.csv')\n",
    "individuals = data.iloc[:,[0,2,3]] \n",
    "\n",
    "def standardization(line):\n",
    "    return line.features.strip('[]').replace(']','').replace(' [','').replace(\"'\",\"\").split(\",\")\n",
    "\n",
    "individuals['features_std'] = individuals.apply(standardization,axis = 1)\n",
    "individuals['unique_features'] = individuals.features_std.apply(np.unique)"
   ]
  },
  {
   "cell_type": "code",
   "execution_count": 237,
   "metadata": {},
   "outputs": [],
   "source": [
    "#remove individuals who only have single features\n",
    "individuals['len'] = individuals.unique_features.apply(len)\n",
    "useful_data = individuals[individuals.len>1]"
   ]
  },
  {
   "cell_type": "code",
   "execution_count": 238,
   "metadata": {
    "scrolled": true
   },
   "outputs": [
    {
     "data": {
      "text/html": [
       "<div>\n",
       "<style scoped>\n",
       "    .dataframe tbody tr th:only-of-type {\n",
       "        vertical-align: middle;\n",
       "    }\n",
       "\n",
       "    .dataframe tbody tr th {\n",
       "        vertical-align: top;\n",
       "    }\n",
       "\n",
       "    .dataframe thead th {\n",
       "        text-align: right;\n",
       "    }\n",
       "</style>\n",
       "<table border=\"1\" class=\"dataframe\">\n",
       "  <thead>\n",
       "    <tr style=\"text-align: right;\">\n",
       "      <th></th>\n",
       "      <th>id</th>\n",
       "      <th>features</th>\n",
       "      <th>counts</th>\n",
       "      <th>features_std</th>\n",
       "      <th>unique_features</th>\n",
       "      <th>len</th>\n",
       "    </tr>\n",
       "  </thead>\n",
       "  <tbody>\n",
       "    <tr>\n",
       "      <th>0</th>\n",
       "      <td>cc42475cf22960a5</td>\n",
       "      <td>[[2], ['1,4']]</td>\n",
       "      <td>1272</td>\n",
       "      <td>[2, 1, 4]</td>\n",
       "      <td>[1, 2, 4]</td>\n",
       "      <td>3</td>\n",
       "    </tr>\n",
       "    <tr>\n",
       "      <th>1</th>\n",
       "      <td>50aecc1fe89eb0d8</td>\n",
       "      <td>[['1,4']]</td>\n",
       "      <td>1180</td>\n",
       "      <td>[1, 4]</td>\n",
       "      <td>[1, 4]</td>\n",
       "      <td>2</td>\n",
       "    </tr>\n",
       "    <tr>\n",
       "      <th>2</th>\n",
       "      <td>467c2bc88d870a18b33bf56b7ef7e615f9d1fba7</td>\n",
       "      <td>[[4], [2], [3], ['1,4']]</td>\n",
       "      <td>1151</td>\n",
       "      <td>[4, 2, 3, 1, 4]</td>\n",
       "      <td>[1, 2, 3, 4]</td>\n",
       "      <td>4</td>\n",
       "    </tr>\n",
       "    <tr>\n",
       "      <th>5</th>\n",
       "      <td>a09bf768f3779a1afe84fdedbb1a98d319361326</td>\n",
       "      <td>[[2], [3]]</td>\n",
       "      <td>1118</td>\n",
       "      <td>[2, 3]</td>\n",
       "      <td>[2, 3]</td>\n",
       "      <td>2</td>\n",
       "    </tr>\n",
       "    <tr>\n",
       "      <th>6</th>\n",
       "      <td>72ce0895b928f024</td>\n",
       "      <td>[[2], ['1,4']]</td>\n",
       "      <td>1102</td>\n",
       "      <td>[2, 1, 4]</td>\n",
       "      <td>[1, 2, 4]</td>\n",
       "      <td>3</td>\n",
       "    </tr>\n",
       "  </tbody>\n",
       "</table>\n",
       "</div>"
      ],
      "text/plain": [
       "                                         id                  features  counts  \\\n",
       "0                          cc42475cf22960a5            [[2], ['1,4']]    1272   \n",
       "1                          50aecc1fe89eb0d8                 [['1,4']]    1180   \n",
       "2  467c2bc88d870a18b33bf56b7ef7e615f9d1fba7  [[4], [2], [3], ['1,4']]    1151   \n",
       "5  a09bf768f3779a1afe84fdedbb1a98d319361326                [[2], [3]]    1118   \n",
       "6                          72ce0895b928f024            [[2], ['1,4']]    1102   \n",
       "\n",
       "      features_std unique_features  len  \n",
       "0        [2, 1, 4]       [1, 2, 4]    3  \n",
       "1           [1, 4]          [1, 4]    2  \n",
       "2  [4, 2, 3, 1, 4]    [1, 2, 3, 4]    4  \n",
       "5           [2, 3]          [2, 3]    2  \n",
       "6        [2, 1, 4]       [1, 2, 4]    3  "
      ]
     },
     "execution_count": 238,
     "metadata": {},
     "output_type": "execute_result"
    }
   ],
   "source": [
    "def build_matirx(set_key_list):\n",
    "    '''建立矩阵，矩阵的高度和宽度为关键词集合的长度+1'''\n",
    "    edge = len(set_key_list)+1\n",
    "    # matrix = np.zeros((edge, edge), dtype=str)\n",
    "    matrix = [['' for j in range(edge)] for i in range(edge)]\n",
    "    return matrix\n",
    "\n",
    "\n",
    "def init_matrix(set_key_list, matrix):\n",
    "    '''初始化矩阵，将关键词集合赋值给第一列和第二列'''\n",
    "    matrix[0][1:] = np.array(set_key_list)\n",
    "    matrix = list(map(list, zip(*matrix)))\n",
    "    matrix[0][1:] = np.array(set_key_list)\n",
    "    return matrix\n",
    "\n",
    "\n",
    "def count_matrix(matrix, formated_data):\n",
    "    '''计算各个关键词共现次数'''\n",
    "    for row in range(1, len(matrix)):\n",
    "        # 遍历矩阵第一行，跳过下标为0的元素\n",
    "        for col in range(1, len(matrix)):\n",
    "                # 遍历矩阵第一列，跳过下标为0的元素\n",
    "                # 实际上就是为了跳过matrix中下标为[0][0]的元素，因为[0][0]为空，不为关键词\n",
    "            if matrix[0][row] == matrix[col][0]:\n",
    "                # 如果取出的行关键词和取出的列关键词相同，则其对应的共现次数为0，即矩阵对角线为0\n",
    "                matrix[col][row] = str(0)\n",
    "            else:\n",
    "                counter = 0\n",
    "                # 初始化计数器\n",
    "                for ech in formated_data:\n",
    "                        # 遍历格式化后的原始数据，让取出的行关键词和取出的列关键词进行组合，\n",
    "                        # 再放到每条原始数据中查询\n",
    "                    if matrix[0][row] in ech and matrix[col][0] in ech:\n",
    "                        counter += 1\n",
    "                    else:\n",
    "                        continue\n",
    "                matrix[col][row] = str(counter)\n",
    "    return matrix\n"
   ]
  },
  {
   "cell_type": "code",
   "execution_count": 433,
   "metadata": {},
   "outputs": [],
   "source": [
    "# 创建空 matrix\n",
    "sets = list(map(str, list(range(1,13))))\n",
    "edge = 13\n",
    "matrix = [[0 for j in range(edge)] for i in range(edge)]\n",
    "matrix[0][1:] = np.array(sets)\n",
    "matrix = list(map(list, zip(*matrix)))\n",
    "matrix[0][1:] = np.array(sets)"
   ]
  },
  {
   "cell_type": "code",
   "execution_count": 434,
   "metadata": {},
   "outputs": [],
   "source": [
    "# 建立共现矩阵（上三角）\n",
    "formated_data = list(useful_data.unique_features)\n",
    "for row in range(1, len(matrix)):\n",
    "    for col in range((row+1), len(matrix)):\n",
    "        counter = 0\n",
    "        for ech in formated_data:\n",
    "            if matrix[0][row] in ech and matrix[col][0] in ech:\n",
    "                counter += 1\n",
    "            else:\n",
    "                continue\n",
    "            matrix[row][col] = counter"
   ]
  },
  {
   "cell_type": "code",
   "execution_count": 375,
   "metadata": {},
   "outputs": [],
   "source": [
    "# 自身出现次数不计，共现矩阵的下三角仅为对称\n",
    "for row in range(1, len(matrix)):\n",
    "    for col in range(1, len(matrix)):\n",
    "        if row == col:\n",
    "            matrix[row][col] = 0\n",
    "        matrix[col][row] = matrix[row][col]"
   ]
  },
  {
   "cell_type": "code",
   "execution_count": 435,
   "metadata": {
    "scrolled": true
   },
   "outputs": [],
   "source": [
    "# 转换成 dataframe 方便看\n",
    "co_matrix = pd.DataFrame(matrix).drop([0],axis = 1).drop([0],axis = 0)"
   ]
  },
  {
   "cell_type": "code",
   "execution_count": 436,
   "metadata": {},
   "outputs": [
    {
     "name": "stderr",
     "output_type": "stream",
     "text": [
      "C:\\Users\\91550\\Anaconda3\\lib\\site-packages\\ipykernel_launcher.py:4: RuntimeWarning: invalid value encountered in double_scalars\n",
      "  after removing the cwd from sys.path.\n"
     ]
    }
   ],
   "source": [
    "#纵列相加为共现中总次数，只能单独放在一次，run一次，否则会把和再相加一次\n",
    "co_matrix['total'] = co_matrix.sum(axis = 1)"
   ]
  },
  {
   "cell_type": "code",
   "execution_count": 446,
   "metadata": {},
   "outputs": [],
   "source": [
    "#制作优化后表格\n",
    "names = list(pd.read_excel('keys.xlsx').iloc[:,0])\n",
    "edge = 13\n",
    "nmatrix = [[0 for j in range(edge)] for i in range(edge)]\n",
    "nmatrix[0][1:] = np.array(names)\n",
    "nmatrix = list(map(list, zip(*nmatrix)))\n",
    "nmatrix[0][1:] = np.array(names)"
   ]
  },
  {
   "cell_type": "code",
   "execution_count": 444,
   "metadata": {},
   "outputs": [
    {
     "name": "stderr",
     "output_type": "stream",
     "text": [
      "C:\\Users\\91550\\Anaconda3\\lib\\site-packages\\ipykernel_launcher.py:3: RuntimeWarning: invalid value encountered in double_scalars\n",
      "  This is separate from the ipykernel package so we can avoid doing imports until\n"
     ]
    }
   ],
   "source": [
    "for row in range(1, len(nmatrix)):\n",
    "    for col in range((row+1), len(nmatrix)):\n",
    "        nmatrix[row][col] = (co_matrix.iloc[row-1,col-1])/(co_matrix.iloc[row-1].total)     \n",
    "co_freq = pd.DataFrame(nmatrix)"
   ]
  },
  {
   "cell_type": "code",
   "execution_count": 445,
   "metadata": {},
   "outputs": [
    {
     "data": {
      "text/html": [
       "<div>\n",
       "<style scoped>\n",
       "    .dataframe tbody tr th:only-of-type {\n",
       "        vertical-align: middle;\n",
       "    }\n",
       "\n",
       "    .dataframe tbody tr th {\n",
       "        vertical-align: top;\n",
       "    }\n",
       "\n",
       "    .dataframe thead th {\n",
       "        text-align: right;\n",
       "    }\n",
       "</style>\n",
       "<table border=\"1\" class=\"dataframe\">\n",
       "  <thead>\n",
       "    <tr style=\"text-align: right;\">\n",
       "      <th></th>\n",
       "      <th>0</th>\n",
       "      <th>1</th>\n",
       "      <th>2</th>\n",
       "      <th>3</th>\n",
       "      <th>4</th>\n",
       "      <th>5</th>\n",
       "      <th>6</th>\n",
       "      <th>7</th>\n",
       "      <th>8</th>\n",
       "      <th>9</th>\n",
       "      <th>10</th>\n",
       "      <th>11</th>\n",
       "      <th>12</th>\n",
       "    </tr>\n",
       "  </thead>\n",
       "  <tbody>\n",
       "    <tr>\n",
       "      <th>0</th>\n",
       "      <td>0</td>\n",
       "      <td>房产</td>\n",
       "      <td>使用公共交通（无车、少开车）</td>\n",
       "      <td>有车</td>\n",
       "      <td>在职（工薪族）</td>\n",
       "      <td>有孩</td>\n",
       "      <td>有健康类问题</td>\n",
       "      <td>企业组织（企业人）</td>\n",
       "      <td>未就业（求职中、青年人才）</td>\n",
       "      <td>有交通类需要</td>\n",
       "      <td>老年人（已退休）</td>\n",
       "      <td>隶属社会组织</td>\n",
       "      <td>有文娱类需要（经常关注新闻资讯）</td>\n",
       "    </tr>\n",
       "    <tr>\n",
       "      <th>1</th>\n",
       "      <td>房产</td>\n",
       "      <td>0</td>\n",
       "      <td>0.123171</td>\n",
       "      <td>0.102544</td>\n",
       "      <td>0.586583</td>\n",
       "      <td>0.0361458</td>\n",
       "      <td>0.0264218</td>\n",
       "      <td>0.0112956</td>\n",
       "      <td>0.0277969</td>\n",
       "      <td>0</td>\n",
       "      <td>0.0125724</td>\n",
       "      <td>0.00442</td>\n",
       "      <td>0.0690502</td>\n",
       "    </tr>\n",
       "    <tr>\n",
       "      <th>2</th>\n",
       "      <td>使用公共交通（无车、少开车）</td>\n",
       "      <td>0</td>\n",
       "      <td>0</td>\n",
       "      <td>0.193382</td>\n",
       "      <td>0.500862</td>\n",
       "      <td>0.0606687</td>\n",
       "      <td>0.0510169</td>\n",
       "      <td>0.0199931</td>\n",
       "      <td>0.0365391</td>\n",
       "      <td>0</td>\n",
       "      <td>0.018959</td>\n",
       "      <td>0.0130989</td>\n",
       "      <td>0.105481</td>\n",
       "    </tr>\n",
       "    <tr>\n",
       "      <th>3</th>\n",
       "      <td>有车</td>\n",
       "      <td>0</td>\n",
       "      <td>0</td>\n",
       "      <td>0</td>\n",
       "      <td>0.600873</td>\n",
       "      <td>0.0800194</td>\n",
       "      <td>0.0640155</td>\n",
       "      <td>0.0261882</td>\n",
       "      <td>0.0625606</td>\n",
       "      <td>0</td>\n",
       "      <td>0.028613</td>\n",
       "      <td>0.0160039</td>\n",
       "      <td>0.121726</td>\n",
       "    </tr>\n",
       "    <tr>\n",
       "      <th>4</th>\n",
       "      <td>在职（工薪族）</td>\n",
       "      <td>0</td>\n",
       "      <td>0</td>\n",
       "      <td>0</td>\n",
       "      <td>0</td>\n",
       "      <td>0.184167</td>\n",
       "      <td>0.1475</td>\n",
       "      <td>0.0533333</td>\n",
       "      <td>0.155833</td>\n",
       "      <td>0</td>\n",
       "      <td>0.0683333</td>\n",
       "      <td>0.0220833</td>\n",
       "      <td>0.36875</td>\n",
       "    </tr>\n",
       "    <tr>\n",
       "      <th>5</th>\n",
       "      <td>有孩</td>\n",
       "      <td>0</td>\n",
       "      <td>0</td>\n",
       "      <td>0</td>\n",
       "      <td>0</td>\n",
       "      <td>0</td>\n",
       "      <td>0.140086</td>\n",
       "      <td>0.0926724</td>\n",
       "      <td>0.170259</td>\n",
       "      <td>0</td>\n",
       "      <td>0.0797414</td>\n",
       "      <td>0.0646552</td>\n",
       "      <td>0.452586</td>\n",
       "    </tr>\n",
       "    <tr>\n",
       "      <th>6</th>\n",
       "      <td>有健康类问题</td>\n",
       "      <td>0</td>\n",
       "      <td>0</td>\n",
       "      <td>0</td>\n",
       "      <td>0</td>\n",
       "      <td>0</td>\n",
       "      <td>0</td>\n",
       "      <td>0.109589</td>\n",
       "      <td>0.228311</td>\n",
       "      <td>0</td>\n",
       "      <td>0.182648</td>\n",
       "      <td>0.0593607</td>\n",
       "      <td>0.420091</td>\n",
       "    </tr>\n",
       "    <tr>\n",
       "      <th>7</th>\n",
       "      <td>企业组织（企业人）</td>\n",
       "      <td>0</td>\n",
       "      <td>0</td>\n",
       "      <td>0</td>\n",
       "      <td>0</td>\n",
       "      <td>0</td>\n",
       "      <td>0</td>\n",
       "      <td>0</td>\n",
       "      <td>0.373984</td>\n",
       "      <td>0</td>\n",
       "      <td>0.121951</td>\n",
       "      <td>0.186992</td>\n",
       "      <td>0.317073</td>\n",
       "    </tr>\n",
       "    <tr>\n",
       "      <th>8</th>\n",
       "      <td>未就业（求职中、青年人才）</td>\n",
       "      <td>0</td>\n",
       "      <td>0</td>\n",
       "      <td>0</td>\n",
       "      <td>0</td>\n",
       "      <td>0</td>\n",
       "      <td>0</td>\n",
       "      <td>0</td>\n",
       "      <td>0</td>\n",
       "      <td>0</td>\n",
       "      <td>0.253521</td>\n",
       "      <td>0.0985915</td>\n",
       "      <td>0.647887</td>\n",
       "    </tr>\n",
       "    <tr>\n",
       "      <th>9</th>\n",
       "      <td>有交通类需要</td>\n",
       "      <td>0</td>\n",
       "      <td>0</td>\n",
       "      <td>0</td>\n",
       "      <td>0</td>\n",
       "      <td>0</td>\n",
       "      <td>0</td>\n",
       "      <td>0</td>\n",
       "      <td>0</td>\n",
       "      <td>0</td>\n",
       "      <td>NaN</td>\n",
       "      <td>NaN</td>\n",
       "      <td>NaN</td>\n",
       "    </tr>\n",
       "    <tr>\n",
       "      <th>10</th>\n",
       "      <td>老年人（已退休）</td>\n",
       "      <td>0</td>\n",
       "      <td>0</td>\n",
       "      <td>0</td>\n",
       "      <td>0</td>\n",
       "      <td>0</td>\n",
       "      <td>0</td>\n",
       "      <td>0</td>\n",
       "      <td>0</td>\n",
       "      <td>0</td>\n",
       "      <td>0</td>\n",
       "      <td>0.166667</td>\n",
       "      <td>0.833333</td>\n",
       "    </tr>\n",
       "    <tr>\n",
       "      <th>11</th>\n",
       "      <td>隶属社会组织</td>\n",
       "      <td>0</td>\n",
       "      <td>0</td>\n",
       "      <td>0</td>\n",
       "      <td>0</td>\n",
       "      <td>0</td>\n",
       "      <td>0</td>\n",
       "      <td>0</td>\n",
       "      <td>0</td>\n",
       "      <td>0</td>\n",
       "      <td>0</td>\n",
       "      <td>0</td>\n",
       "      <td>1</td>\n",
       "    </tr>\n",
       "    <tr>\n",
       "      <th>12</th>\n",
       "      <td>有文娱类需要（经常关注新闻资讯）</td>\n",
       "      <td>0</td>\n",
       "      <td>0</td>\n",
       "      <td>0</td>\n",
       "      <td>0</td>\n",
       "      <td>0</td>\n",
       "      <td>0</td>\n",
       "      <td>0</td>\n",
       "      <td>0</td>\n",
       "      <td>0</td>\n",
       "      <td>0</td>\n",
       "      <td>0</td>\n",
       "      <td>0</td>\n",
       "    </tr>\n",
       "  </tbody>\n",
       "</table>\n",
       "</div>"
      ],
      "text/plain": [
       "                  0   1               2         3         4          5   \\\n",
       "0                  0  房产  使用公共交通（无车、少开车）        有车   在职（工薪族）         有孩   \n",
       "1                 房产   0        0.123171  0.102544  0.586583  0.0361458   \n",
       "2     使用公共交通（无车、少开车）   0               0  0.193382  0.500862  0.0606687   \n",
       "3                 有车   0               0         0  0.600873  0.0800194   \n",
       "4            在职（工薪族）   0               0         0         0   0.184167   \n",
       "5                 有孩   0               0         0         0          0   \n",
       "6             有健康类问题   0               0         0         0          0   \n",
       "7          企业组织（企业人）   0               0         0         0          0   \n",
       "8      未就业（求职中、青年人才）   0               0         0         0          0   \n",
       "9             有交通类需要   0               0         0         0          0   \n",
       "10          老年人（已退休）   0               0         0         0          0   \n",
       "11            隶属社会组织   0               0         0         0          0   \n",
       "12  有文娱类需要（经常关注新闻资讯）   0               0         0         0          0   \n",
       "\n",
       "           6          7              8       9          10         11  \\\n",
       "0      有健康类问题  企业组织（企业人）  未就业（求职中、青年人才）  有交通类需要   老年人（已退休）     隶属社会组织   \n",
       "1   0.0264218  0.0112956      0.0277969       0  0.0125724    0.00442   \n",
       "2   0.0510169  0.0199931      0.0365391       0   0.018959  0.0130989   \n",
       "3   0.0640155  0.0261882      0.0625606       0   0.028613  0.0160039   \n",
       "4      0.1475  0.0533333       0.155833       0  0.0683333  0.0220833   \n",
       "5    0.140086  0.0926724       0.170259       0  0.0797414  0.0646552   \n",
       "6           0   0.109589       0.228311       0   0.182648  0.0593607   \n",
       "7           0          0       0.373984       0   0.121951   0.186992   \n",
       "8           0          0              0       0   0.253521  0.0985915   \n",
       "9           0          0              0       0        NaN        NaN   \n",
       "10          0          0              0       0          0   0.166667   \n",
       "11          0          0              0       0          0          0   \n",
       "12          0          0              0       0          0          0   \n",
       "\n",
       "                  12  \n",
       "0   有文娱类需要（经常关注新闻资讯）  \n",
       "1          0.0690502  \n",
       "2           0.105481  \n",
       "3           0.121726  \n",
       "4            0.36875  \n",
       "5           0.452586  \n",
       "6           0.420091  \n",
       "7           0.317073  \n",
       "8           0.647887  \n",
       "9                NaN  \n",
       "10          0.833333  \n",
       "11                 1  \n",
       "12                 0  "
      ]
     },
     "execution_count": 445,
     "metadata": {},
     "output_type": "execute_result"
    }
   ],
   "source": []
  },
  {
   "cell_type": "code",
   "execution_count": 176,
   "metadata": {},
   "outputs": [],
   "source": [
    "# part 4 use the number of times each device_id used the app as a second feature \n",
    "total_count = events.device_id.value_counts()\n",
    "test_count = total_count[0:(len(test)+1)]\n",
    "test_count = pd.DataFrame(list(test_count),columns = ['counts'])\n",
    "test['counts'] = test_count\n",
    "test.to_csv('with_features.csv',index = False)"
   ]
  }
 ],
 "metadata": {
  "kernelspec": {
   "display_name": "Python 3",
   "language": "python",
   "name": "python3"
  },
  "language_info": {
   "codemirror_mode": {
    "name": "ipython",
    "version": 3
   },
   "file_extension": ".py",
   "mimetype": "text/x-python",
   "name": "python",
   "nbconvert_exporter": "python",
   "pygments_lexer": "ipython3",
   "version": "3.7.3"
  }
 },
 "nbformat": 4,
 "nbformat_minor": 2
}
